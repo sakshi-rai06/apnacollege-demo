{
  "cells": [
    {
      "cell_type": "code",
      "source": [
        "!pip install numpy"
      ],
      "metadata": {
        "colab": {
          "base_uri": "https://localhost:8080/"
        },
        "id": "orLQxxu7u2eN",
        "outputId": "6639b427-105a-4829-9c3b-239f19eda447"
      },
      "id": "orLQxxu7u2eN",
      "execution_count": 1,
      "outputs": [
        {
          "output_type": "stream",
          "name": "stdout",
          "text": [
            "Requirement already satisfied: numpy in /usr/local/lib/python3.12/dist-packages (2.0.2)\n"
          ]
        }
      ]
    },
    {
      "cell_type": "code",
      "source": [
        "import pandas as pd\n",
        "import numpy as np\n",
        "data = [\n",
        "    ['Anastasia', 12.5, 1, 'yes'],\n",
        "    ['Dima', 9, 3, 'no'],\n",
        "    ['Katherine', 16.5, 2, 'yes'],\n",
        "    ['James', np.nan, 3, 'no'],\n",
        "    ['Emily', 9, 2, 'no'],\n",
        "    ['Michael', 20, 3, 'yes'],\n",
        "    ['Matthew', 14.5, 1, 'yes'],\n",
        "    ['Laura', np.nan, 1, 'no'],\n",
        "    ['Kevin', 8, 2, 'no'],\n",
        "    ['Jonas', 19, 1, 'yes']\n",
        "]\n",
        "columns = ['name', 'score', 'attempts', 'qualify']\n",
        "\n",
        "labels = ['a', 'b', 'c', 'd', 'e', 'f', 'g', 'h', 'i', 'j']\n",
        "\n",
        "df = pd.DataFrame(data, columns=columns, index=labels)\n",
        "\n",
        "print(df)\n"
      ],
      "metadata": {
        "colab": {
          "base_uri": "https://localhost:8080/"
        },
        "id": "QfY2LGRVu536",
        "outputId": "7d69baa1-0def-4a88-98fe-7b5e4ab815db"
      },
      "id": "QfY2LGRVu536",
      "execution_count": 6,
      "outputs": [
        {
          "output_type": "stream",
          "name": "stdout",
          "text": [
            "        name  score  attempts qualify\n",
            "a  Anastasia   12.5         1     yes\n",
            "b       Dima    9.0         3      no\n",
            "c  Katherine   16.5         2     yes\n",
            "d      James    NaN         3      no\n",
            "e      Emily    9.0         2      no\n",
            "f    Michael   20.0         3     yes\n",
            "g    Matthew   14.5         1     yes\n",
            "h      Laura    NaN         1      no\n",
            "i      Kevin    8.0         2      no\n",
            "j      Jonas   19.0         1     yes\n"
          ]
        }
      ]
    },
    {
      "cell_type": "code",
      "source": [
        "import pandas as pd\n",
        "import numpy as np\n",
        "\n",
        "\n",
        "exam_data = {\n",
        "    'name': np.array(['Anastasia', 'Dima', 'Katherine', 'James', 'Emily',\n",
        "                      'Michael', 'Matthew', 'Laura', 'Kevin', 'Jonas']),\n",
        "    'score': np.array([12.5, 9, 16.5, np.nan, 9, 20, 14.5, np.nan, 8, 19]),\n",
        "    'attempts': np.array([1, 3, 2, 3, 2, 3, 1, 1, 2, 1]),\n",
        "    'qualify': np.array(['yes', 'no', 'yes', 'no', 'no',\n",
        "                         'yes', 'yes', 'no', 'no', 'yes'])\n",
        "}\n",
        "labels = ['a', 'b', 'c', 'd', 'e', 'f', 'g', 'h', 'i', 'j']\n",
        "df = pd.DataFrame(exam_data, index=labels)\n",
        "\n",
        "print(df)\n"
      ],
      "metadata": {
        "colab": {
          "base_uri": "https://localhost:8080/"
        },
        "id": "7lj7FhAax53g",
        "outputId": "825583ee-3ab7-4112-f7be-211d8e851d6f"
      },
      "id": "7lj7FhAax53g",
      "execution_count": 7,
      "outputs": [
        {
          "output_type": "stream",
          "name": "stdout",
          "text": [
            "        name  score  attempts qualify\n",
            "a  Anastasia   12.5         1     yes\n",
            "b       Dima    9.0         3      no\n",
            "c  Katherine   16.5         2     yes\n",
            "d      James    NaN         3      no\n",
            "e      Emily    9.0         2      no\n",
            "f    Michael   20.0         3     yes\n",
            "g    Matthew   14.5         1     yes\n",
            "h      Laura    NaN         1      no\n",
            "i      Kevin    8.0         2      no\n",
            "j      Jonas   19.0         1     yes\n"
          ]
        }
      ]
    },
    {
      "cell_type": "code",
      "source": [
        "import pandas as pd\n",
        "import numpy as np\n",
        "data = [\n",
        "    {'name': 'Anastasia', 'score': 12.5, 'attempts': 1, 'qualify': 'yes'},\n",
        "    {'name': 'Dima', 'score': 9, 'attempts': 3, 'qualify': 'no'},\n",
        "    {'name': 'Katherine', 'score': 16.5, 'attempts': 2, 'qualify': 'yes'},\n",
        "    {'name': 'James', 'score': np.nan, 'attempts': 3, 'qualify': 'no'},\n",
        "    {'name': 'Emily', 'score': 9, 'attempts': 2, 'qualify': 'no'},\n",
        "    {'name': 'Michael', 'score': 20, 'attempts': 3, 'qualify': 'yes'},\n",
        "    {'name': 'Matthew', 'score': 14.5, 'attempts': 1, 'qualify': 'yes'},\n",
        "    {'name': 'Laura', 'score': np.nan, 'attempts': 1, 'qualify': 'no'},\n",
        "    {'name': 'Kevin', 'score': 8, 'attempts': 2, 'qualify': 'no'},\n",
        "    {'name': 'Jonas', 'score': 19, 'attempts': 1, 'qualify': 'yes'}\n",
        "]\n",
        "\n",
        "labels = ['a', 'b', 'c', 'd', 'e', 'f', 'g', 'h', 'i', 'j']\n",
        "\n",
        "df = pd.DataFrame(data, index=labels)\n",
        "\n",
        "\n",
        "print(df)\n"
      ],
      "metadata": {
        "colab": {
          "base_uri": "https://localhost:8080/"
        },
        "id": "qtRwhHkZyVm8",
        "outputId": "6a85a47a-1611-4b95-ae5e-5858498a7115"
      },
      "id": "qtRwhHkZyVm8",
      "execution_count": 8,
      "outputs": [
        {
          "output_type": "stream",
          "name": "stdout",
          "text": [
            "        name  score  attempts qualify\n",
            "a  Anastasia   12.5         1     yes\n",
            "b       Dima    9.0         3      no\n",
            "c  Katherine   16.5         2     yes\n",
            "d      James    NaN         3      no\n",
            "e      Emily    9.0         2      no\n",
            "f    Michael   20.0         3     yes\n",
            "g    Matthew   14.5         1     yes\n",
            "h      Laura    NaN         1      no\n",
            "i      Kevin    8.0         2      no\n",
            "j      Jonas   19.0         1     yes\n"
          ]
        }
      ]
    },
    {
      "cell_type": "code",
      "source": [
        "import pandas as pd\n",
        "import numpy as np\n",
        "data = [\n",
        "    {'name': 'Anastasia', 'score': 12.5, 'attempts': 1, 'qualify': 'yes'},\n",
        "    {'name': 'Dima', 'score': 9, 'attempts': 3, 'qualify': 'no'},\n",
        "    {'name': 'Katherine', 'score': 16.5, 'attempts': 2, 'qualify': 'yes'},\n",
        "    {'name': 'James', 'score': np.nan, 'attempts': 3, 'qualify': 'no'},\n",
        "    {'name': 'Emily', 'score': 9, 'attempts': 2, 'qualify': 'no'},\n",
        "    {'name': 'Michael', 'score': 20, 'attempts': 3, 'qualify': 'yes'},\n",
        "    {'name': 'Matthew', 'score': 14.5, 'attempts': 1, 'qualify': 'yes'},\n",
        "    {'name': 'Laura', 'score': np.nan, 'attempts': 1, 'qualify': 'no'},\n",
        "    {'name': 'Kevin', 'score': 8, 'attempts': 2, 'qualify': 'no'},\n",
        "    {'name': 'Jonas', 'score': 19, 'attempts': 1, 'qualify': 'yes'}\n",
        "]\n",
        "\n",
        "index_labels = ['a', 'b', 'c', 'd', 'e', 'f', 'g', 'h', 'i', 'j']\n",
        "\n",
        "df = pd.DataFrame(data, index=index_labels)\n",
        "\n",
        "\n",
        "print(df)\n"
      ],
      "metadata": {
        "colab": {
          "base_uri": "https://localhost:8080/"
        },
        "id": "HtL_aX6fyr1n",
        "outputId": "dab01618-6d6d-4e90-999c-2e71310f7ec0"
      },
      "id": "HtL_aX6fyr1n",
      "execution_count": 9,
      "outputs": [
        {
          "output_type": "stream",
          "name": "stdout",
          "text": [
            "        name  score  attempts qualify\n",
            "a  Anastasia   12.5         1     yes\n",
            "b       Dima    9.0         3      no\n",
            "c  Katherine   16.5         2     yes\n",
            "d      James    NaN         3      no\n",
            "e      Emily    9.0         2      no\n",
            "f    Michael   20.0         3     yes\n",
            "g    Matthew   14.5         1     yes\n",
            "h      Laura    NaN         1      no\n",
            "i      Kevin    8.0         2      no\n",
            "j      Jonas   19.0         1     yes\n"
          ]
        }
      ]
    },
    {
      "cell_type": "code",
      "source": [
        "import pandas as pd\n",
        "import numpy as np\n",
        "\n",
        "name_series = pd.Series({\n",
        "    'a': 'Anastasia',\n",
        "    'b': 'Dima',\n",
        "    'c': 'Katherine',\n",
        "    'd': 'James',\n",
        "    'e': 'Emily',\n",
        "    'f': 'Michael',\n",
        "    'g': 'Matthew',\n",
        "    'h': 'Laura',\n",
        "    'i': 'Kevin',\n",
        "    'j': 'Jonas'\n",
        "})\n",
        "\n",
        "score_series = pd.Series({\n",
        "    'a': 12.5,\n",
        "    'b': 9,\n",
        "    'c': 16.5,\n",
        "    'd': np.nan,\n",
        "    'e': 9,\n",
        "    'f': 20,\n",
        "    'g': 14.5,\n",
        "    'h': np.nan,\n",
        "    'i': 8,\n",
        "    'j': 19\n",
        "})\n",
        "\n",
        "attempts_series = pd.Series({\n",
        "    'a': 1,\n",
        "    'b': 3,\n",
        "    'c': 2,\n",
        "    'd': 3,\n",
        "    'e': 2,\n",
        "    'f': 3,\n",
        "    'g': 1,\n",
        "    'h': 1,\n",
        "    'i': 2,\n",
        "    'j': 1\n",
        "})\n",
        "\n",
        "qualify_series = pd.Series({\n",
        "    'a': 'yes',\n",
        "    'b': 'no',\n",
        "    'c': 'yes',\n",
        "    'd': 'no',\n",
        "    'e': 'no',\n",
        "    'f': 'yes',\n",
        "    'g': 'yes',\n",
        "    'h': 'no',\n",
        "    'i': 'no',\n",
        "    'j': 'yes'\n",
        "})\n",
        "\n",
        "data = {\n",
        "    'name': name_series,\n",
        "    'score': score_series,\n",
        "    'attempts': attempts_series,\n",
        "    'qualify': qualify_series\n",
        "}\n",
        "\n",
        "df = pd.DataFrame(data)\n",
        "\n",
        "print(df)\n"
      ],
      "metadata": {
        "id": "ph7_51jgy9L0"
      },
      "id": "ph7_51jgy9L0",
      "execution_count": null,
      "outputs": []
    },
    {
      "cell_type": "code",
      "source": [
        "import pandas as pd\n",
        "import numpy as np\n",
        "exam_data = {\n",
        "    'name': ['Anastasia', 'Dima', 'Katherine', 'James', 'Emily',\n",
        "             'Michael', 'Matthew', 'Laura', 'Kevin', 'Jonas'],\n",
        "    'score': [12.5, 9, 16.5, np.nan, 9, 20, 14.5, np.nan, 8, 19],\n",
        "    'attempts': [1, 3, 2, 3, 2, 3, 1, 1, 2, 1],\n",
        "    'qualify': ['yes', 'no', 'yes', 'no', 'no',\n",
        "                'yes', 'yes', 'no', 'no', 'yes']\n",
        "}\n",
        "\n",
        "labels = ['a', 'b', 'c', 'd', 'e', 'f', 'g', 'h', 'i', 'j']\n",
        "df = pd.DataFrame(exam_data, index=labels)\n",
        "\n",
        "print(df)\n"
      ],
      "metadata": {
        "colab": {
          "base_uri": "https://localhost:8080/"
        },
        "id": "2vCU3X9luaB_",
        "outputId": "f26ee11d-e941-4952-c37e-1711b920faa4"
      },
      "id": "2vCU3X9luaB_",
      "execution_count": 5,
      "outputs": [
        {
          "output_type": "stream",
          "name": "stdout",
          "text": [
            "        name  score  attempts qualify\n",
            "a  Anastasia   12.5         1     yes\n",
            "b       Dima    9.0         3      no\n",
            "c  Katherine   16.5         2     yes\n",
            "d      James    NaN         3      no\n",
            "e      Emily    9.0         2      no\n",
            "f    Michael   20.0         3     yes\n",
            "g    Matthew   14.5         1     yes\n",
            "h      Laura    NaN         1      no\n",
            "i      Kevin    8.0         2      no\n",
            "j      Jonas   19.0         1     yes\n"
          ]
        }
      ]
    }
  ],
  "metadata": {
    "kernelspec": {
      "display_name": "Python 3",
      "name": "python3"
    },
    "language_info": {
      "name": "python"
    },
    "required_libs": [],
    "colab": {
      "provenance": []
    }
  },
  "nbformat": 4,
  "nbformat_minor": 5
}